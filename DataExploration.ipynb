{
 "cells": [
  {
   "cell_type": "markdown",
   "id": "incredible-chicago",
   "metadata": {},
   "source": [
    "# Data Exploration \n",
    "\n",
    "##Objective: \n",
    "In this notebook you will see the ways that I have gotten acquainted with the data that I will be woking with. "
   ]
  },
  {
   "cell_type": "markdown",
   "id": "considerable-healing",
   "metadata": {},
   "source": [
    "First we imported the correct moduals for data exploration \n",
    "This will help us get the URLs and look at the data "
   ]
  },
  {
   "cell_type": "code",
   "execution_count": 2,
   "id": "brief-meaning",
   "metadata": {},
   "outputs": [],
   "source": [
    "import requests\n",
    "from bs4 import BeautifulSoup\n",
    "import pandas as pd "
   ]
  },
  {
   "cell_type": "markdown",
   "id": "significant-backing",
   "metadata": {},
   "source": [
    "Then this is the code used to get the link and grab the data - we are not printing it tho! Just grabbing it so we can explore it. "
   ]
  },
  {
   "cell_type": "code",
   "execution_count": null,
   "id": "equivalent-emergency",
   "metadata": {},
   "outputs": [],
   "source": [
    "url = 'https://www1.nyc.gov/site/tlc/about/tlc-trip-record-data.page'\n",
    "reqs = requests.get(url)\n",
    "soup = BeautifulSoup(reqs.text, 'html.parser')\n",
    " \n",
    "for link in soup.find_all('a'):\n",
    "    if \"trip+data/yellow_tripdata_\" in link.get('href'):\n",
    "        link = link.get('href') \n",
    "        df = pd.read_csv(link)"
   ]
  },
  {
   "cell_type": "markdown",
   "id": "partial-motivation",
   "metadata": {},
   "source": [
    "## The Process \n",
    "Now we start to look at the data. Using this pandas method we will look at the columns in the csv file "
   ]
  },
  {
   "cell_type": "code",
   "execution_count": null,
   "id": "resistant-marijuana",
   "metadata": {},
   "outputs": [],
   "source": [
    "cols = df.columns\n",
    "print(cols)"
   ]
  },
  {
   "cell_type": "markdown",
   "id": "corresponding-fishing",
   "metadata": {},
   "source": [
    "This will show the stats for the feild name that we put in- here for example we have put in the feild that will need the sats for for analysis"
   ]
  },
  {
   "cell_type": "code",
   "execution_count": null,
   "id": "prime-religious",
   "metadata": {},
   "outputs": [],
   "source": [
    "describe_type = df['payment_type'].describe()\n",
    "describe_fare = df['fare_amount'].describe()\n",
    "describe_extra = df['extra'].describe()\n",
    "describe_mtax = df['mta_tax'].describe()\n",
    "describe_tip = df['tip_amount'].describe()\n",
    "describe_tolls = df['tolls_amount'].describe()"
   ]
  },
  {
   "cell_type": "markdown",
   "id": "stable-enforcement",
   "metadata": {},
   "source": [
    "This will show the type of data that is found in each of the data feilds "
   ]
  },
  {
   "cell_type": "code",
   "execution_count": null,
   "id": "narrative-recall",
   "metadata": {},
   "outputs": [],
   "source": [
    "types = df.dtypes\n",
    "print(types)"
   ]
  },
  {
   "cell_type": "markdown",
   "id": "potential-rough",
   "metadata": {},
   "source": [
    "## The Website"
   ]
  },
  {
   "cell_type": "markdown",
   "id": "public-calendar",
   "metadata": {},
   "source": [
    "The website provides important information about the data too. I found these links that are useful:"
   ]
  },
  {
   "cell_type": "markdown",
   "id": "incident-cleaners",
   "metadata": {},
   "source": [
    "https://www1.nyc.gov/assets/tlc/downloads/pdf/data_dictionary_trip_records_yellow.pdf\n",
    "\n",
    "https://www1.nyc.gov/assets/tlc/images/content/pages/about/taxi_zone_map_bronx.jpg\n",
    "https://www1.nyc.gov/assets/tlc/images/content/pages/about/taxi_zone_map_brooklyn.jpg\n",
    "https://www1.nyc.gov/assets/tlc/images/content/pages/about/taxi_zone_map_manhattan.jpg\n",
    "https://www1.nyc.gov/assets/tlc/images/content/pages/about/taxi_zone_map_queens.jpg\n",
    "https://www1.nyc.gov/assets/tlc/images/content/pages/about/taxi_zone_map_staten_island.jpg"
   ]
  }
 ],
 "metadata": {
  "kernelspec": {
   "display_name": "Python 3",
   "language": "python",
   "name": "python3"
  },
  "language_info": {
   "codemirror_mode": {
    "name": "ipython",
    "version": 3
   },
   "file_extension": ".py",
   "mimetype": "text/x-python",
   "name": "python",
   "nbconvert_exporter": "python",
   "pygments_lexer": "ipython3",
   "version": "3.7.4"
  }
 },
 "nbformat": 4,
 "nbformat_minor": 5
}
