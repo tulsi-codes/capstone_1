{
 "cells": [
  {
   "cell_type": "markdown",
   "id": "selected-iceland",
   "metadata": {},
   "source": [
    "Data Exploration \n",
    "\n",
    "Objective: In this notebook you will see the ways that I have gotten acquainted with the data that I will be woking with. "
   ]
  },
  {
   "cell_type": "markdown",
   "id": "moving-printing",
   "metadata": {},
   "source": [
    "First we imported the correct moduals for data exploration \n",
    "This will help us get the URLs and look at the data "
   ]
  },
  {
   "cell_type": "code",
   "execution_count": null,
   "id": "stuffed-animal",
   "metadata": {},
   "outputs": [],
   "source": [
    "import requests\n",
    "from bs4 import BeautifulSoup\n",
    "import pd from pandas"
   ]
  }
 ],
 "metadata": {
  "kernelspec": {
   "display_name": "Python 3",
   "language": "python",
   "name": "python3"
  },
  "language_info": {
   "codemirror_mode": {
    "name": "ipython",
    "version": 3
   },
   "file_extension": ".py",
   "mimetype": "text/x-python",
   "name": "python",
   "nbconvert_exporter": "python",
   "pygments_lexer": "ipython3",
   "version": "3.7.4"
  }
 },
 "nbformat": 4,
 "nbformat_minor": 5
}
